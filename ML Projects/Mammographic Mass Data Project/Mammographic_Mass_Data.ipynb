{
 "cells": [
  {
   "cell_type": "markdown",
   "id": "c56ab2b3",
   "metadata": {},
   "source": [
    "## Importing Libraries"
   ]
  },
  {
   "cell_type": "code",
   "execution_count": 1,
   "id": "bde99c83",
   "metadata": {},
   "outputs": [],
   "source": [
    "import numpy as np\n",
    "import pandas as pd\n",
    "import seaborn as sns\n",
    "import matplotlib.pyplot as plt\n",
    "import xgboost as xgb\n",
    "from sklearn.metrics import accuracy_score,confusion_matrix\n",
    "from sklearn.preprocessing import MinMaxScaler,StandardScaler\n",
    "from sklearn.model_selection import train_test_split,cross_val_score\n",
    "from sklearn.neighbors import KNeighborsClassifier\n",
    "from sklearn import svm\n",
    "from sklearn.linear_model import LogisticRegression\n",
    "from sklearn.naive_bayes import MultinomialNB\n",
    "from sklearn.tree import DecisionTreeClassifier\n",
    "from sklearn.ensemble import RandomForestClassifier"
   ]
  },
  {
   "cell_type": "markdown",
   "id": "d14ea7fb",
   "metadata": {},
   "source": [
    "## Data"
   ]
  },
  {
   "cell_type": "code",
   "execution_count": 2,
   "id": "33c44fa7",
   "metadata": {},
   "outputs": [
    {
     "data": {
      "text/html": [
       "<div>\n",
       "<style scoped>\n",
       "    .dataframe tbody tr th:only-of-type {\n",
       "        vertical-align: middle;\n",
       "    }\n",
       "\n",
       "    .dataframe tbody tr th {\n",
       "        vertical-align: top;\n",
       "    }\n",
       "\n",
       "    .dataframe thead th {\n",
       "        text-align: right;\n",
       "    }\n",
       "</style>\n",
       "<table border=\"1\" class=\"dataframe\">\n",
       "  <thead>\n",
       "    <tr style=\"text-align: right;\">\n",
       "      <th></th>\n",
       "      <th>BI-RADS assessment</th>\n",
       "      <th>Age</th>\n",
       "      <th>Shape</th>\n",
       "      <th>Margin</th>\n",
       "      <th>Density</th>\n",
       "      <th>Severity</th>\n",
       "    </tr>\n",
       "  </thead>\n",
       "  <tbody>\n",
       "    <tr>\n",
       "      <th>0</th>\n",
       "      <td>5.0</td>\n",
       "      <td>67.0</td>\n",
       "      <td>3.0</td>\n",
       "      <td>5.0</td>\n",
       "      <td>3.0</td>\n",
       "      <td>1</td>\n",
       "    </tr>\n",
       "    <tr>\n",
       "      <th>1</th>\n",
       "      <td>4.0</td>\n",
       "      <td>43.0</td>\n",
       "      <td>1.0</td>\n",
       "      <td>1.0</td>\n",
       "      <td>NaN</td>\n",
       "      <td>1</td>\n",
       "    </tr>\n",
       "    <tr>\n",
       "      <th>2</th>\n",
       "      <td>5.0</td>\n",
       "      <td>58.0</td>\n",
       "      <td>4.0</td>\n",
       "      <td>5.0</td>\n",
       "      <td>3.0</td>\n",
       "      <td>1</td>\n",
       "    </tr>\n",
       "    <tr>\n",
       "      <th>3</th>\n",
       "      <td>4.0</td>\n",
       "      <td>28.0</td>\n",
       "      <td>1.0</td>\n",
       "      <td>1.0</td>\n",
       "      <td>3.0</td>\n",
       "      <td>0</td>\n",
       "    </tr>\n",
       "    <tr>\n",
       "      <th>4</th>\n",
       "      <td>5.0</td>\n",
       "      <td>74.0</td>\n",
       "      <td>1.0</td>\n",
       "      <td>5.0</td>\n",
       "      <td>NaN</td>\n",
       "      <td>1</td>\n",
       "    </tr>\n",
       "  </tbody>\n",
       "</table>\n",
       "</div>"
      ],
      "text/plain": [
       "   BI-RADS assessment   Age  Shape  Margin  Density  Severity\n",
       "0                 5.0  67.0    3.0     5.0      3.0         1\n",
       "1                 4.0  43.0    1.0     1.0      NaN         1\n",
       "2                 5.0  58.0    4.0     5.0      3.0         1\n",
       "3                 4.0  28.0    1.0     1.0      3.0         0\n",
       "4                 5.0  74.0    1.0     5.0      NaN         1"
      ]
     },
     "execution_count": 2,
     "metadata": {},
     "output_type": "execute_result"
    }
   ],
   "source": [
    "df=pd.read_csv('/Users/amit/Documents/Data Science/Machine Lerning and Data science/Courses/Data Science and Machine Learning/MLCourse/mammographic_masses.data.txt',na_values=['?'],names=['BI-RADS assessment','Age','Shape','Margin','Density','Severity'])\n",
    "df.head()"
   ]
  },
  {
   "cell_type": "code",
   "execution_count": 3,
   "id": "a35c3e31",
   "metadata": {},
   "outputs": [
    {
     "data": {
      "text/html": [
       "<div>\n",
       "<style scoped>\n",
       "    .dataframe tbody tr th:only-of-type {\n",
       "        vertical-align: middle;\n",
       "    }\n",
       "\n",
       "    .dataframe tbody tr th {\n",
       "        vertical-align: top;\n",
       "    }\n",
       "\n",
       "    .dataframe thead th {\n",
       "        text-align: right;\n",
       "    }\n",
       "</style>\n",
       "<table border=\"1\" class=\"dataframe\">\n",
       "  <thead>\n",
       "    <tr style=\"text-align: right;\">\n",
       "      <th></th>\n",
       "      <th>BI-RADS assessment</th>\n",
       "      <th>Age</th>\n",
       "      <th>Shape</th>\n",
       "      <th>Margin</th>\n",
       "      <th>Density</th>\n",
       "      <th>Severity</th>\n",
       "    </tr>\n",
       "  </thead>\n",
       "  <tbody>\n",
       "    <tr>\n",
       "      <th>count</th>\n",
       "      <td>959.000000</td>\n",
       "      <td>956.000000</td>\n",
       "      <td>930.000000</td>\n",
       "      <td>913.000000</td>\n",
       "      <td>885.000000</td>\n",
       "      <td>961.000000</td>\n",
       "    </tr>\n",
       "    <tr>\n",
       "      <th>mean</th>\n",
       "      <td>4.348279</td>\n",
       "      <td>55.487448</td>\n",
       "      <td>2.721505</td>\n",
       "      <td>2.796276</td>\n",
       "      <td>2.910734</td>\n",
       "      <td>0.463059</td>\n",
       "    </tr>\n",
       "    <tr>\n",
       "      <th>std</th>\n",
       "      <td>1.783031</td>\n",
       "      <td>14.480131</td>\n",
       "      <td>1.242792</td>\n",
       "      <td>1.566546</td>\n",
       "      <td>0.380444</td>\n",
       "      <td>0.498893</td>\n",
       "    </tr>\n",
       "    <tr>\n",
       "      <th>min</th>\n",
       "      <td>0.000000</td>\n",
       "      <td>18.000000</td>\n",
       "      <td>1.000000</td>\n",
       "      <td>1.000000</td>\n",
       "      <td>1.000000</td>\n",
       "      <td>0.000000</td>\n",
       "    </tr>\n",
       "    <tr>\n",
       "      <th>25%</th>\n",
       "      <td>4.000000</td>\n",
       "      <td>45.000000</td>\n",
       "      <td>2.000000</td>\n",
       "      <td>1.000000</td>\n",
       "      <td>3.000000</td>\n",
       "      <td>0.000000</td>\n",
       "    </tr>\n",
       "    <tr>\n",
       "      <th>50%</th>\n",
       "      <td>4.000000</td>\n",
       "      <td>57.000000</td>\n",
       "      <td>3.000000</td>\n",
       "      <td>3.000000</td>\n",
       "      <td>3.000000</td>\n",
       "      <td>0.000000</td>\n",
       "    </tr>\n",
       "    <tr>\n",
       "      <th>75%</th>\n",
       "      <td>5.000000</td>\n",
       "      <td>66.000000</td>\n",
       "      <td>4.000000</td>\n",
       "      <td>4.000000</td>\n",
       "      <td>3.000000</td>\n",
       "      <td>1.000000</td>\n",
       "    </tr>\n",
       "    <tr>\n",
       "      <th>max</th>\n",
       "      <td>55.000000</td>\n",
       "      <td>96.000000</td>\n",
       "      <td>4.000000</td>\n",
       "      <td>5.000000</td>\n",
       "      <td>4.000000</td>\n",
       "      <td>1.000000</td>\n",
       "    </tr>\n",
       "  </tbody>\n",
       "</table>\n",
       "</div>"
      ],
      "text/plain": [
       "       BI-RADS assessment         Age       Shape      Margin     Density  \\\n",
       "count          959.000000  956.000000  930.000000  913.000000  885.000000   \n",
       "mean             4.348279   55.487448    2.721505    2.796276    2.910734   \n",
       "std              1.783031   14.480131    1.242792    1.566546    0.380444   \n",
       "min              0.000000   18.000000    1.000000    1.000000    1.000000   \n",
       "25%              4.000000   45.000000    2.000000    1.000000    3.000000   \n",
       "50%              4.000000   57.000000    3.000000    3.000000    3.000000   \n",
       "75%              5.000000   66.000000    4.000000    4.000000    3.000000   \n",
       "max             55.000000   96.000000    4.000000    5.000000    4.000000   \n",
       "\n",
       "         Severity  \n",
       "count  961.000000  \n",
       "mean     0.463059  \n",
       "std      0.498893  \n",
       "min      0.000000  \n",
       "25%      0.000000  \n",
       "50%      0.000000  \n",
       "75%      1.000000  \n",
       "max      1.000000  "
      ]
     },
     "execution_count": 3,
     "metadata": {},
     "output_type": "execute_result"
    }
   ],
   "source": [
    "df.describe()  # the values in the variables are not even "
   ]
  },
  {
   "cell_type": "markdown",
   "id": "c9c5259c",
   "metadata": {},
   "source": [
    "__The distribution of the data__"
   ]
  },
  {
   "cell_type": "code",
   "execution_count": 4,
   "id": "35c8fa94",
   "metadata": {},
   "outputs": [
    {
     "data": {
      "text/plain": [
       "<seaborn.axisgrid.PairGrid at 0x7ff583ad9a10>"
      ]
     },
     "execution_count": 4,
     "metadata": {},
     "output_type": "execute_result"
    },
    {
     "data": {
      "image/png": "[encoded data removed]",
      "text/plain": [
       "<Figure size 949.125x900 with 30 Axes>"
      ]
     },
     "metadata": {
      "needs_background": "light"
     },
     "output_type": "display_data"
    }
   ],
   "source": [
    "sns.pairplot(df,hue='Severity')       # there are some overlappings in the data"
   ]
  },
  {
   "cell_type": "markdown",
   "id": "6b6195b3",
   "metadata": {},
   "source": [
    "__Dropping the null values as this will not make the much of the difference__"
   ]
  },
  {
   "cell_type": "code",
   "execution_count": 5,
   "id": "3627b419",
   "metadata": {},
   "outputs": [],
   "source": [
    "df.dropna(inplace=True)"
   ]
  },
  {
   "cell_type": "code",
   "execution_count": 6,
   "id": "adc47cb4",
   "metadata": {},
   "outputs": [
    {
     "data": {
      "text/html": [
       "<div>\n",
       "<style scoped>\n",
       "    .dataframe tbody tr th:only-of-type {\n",
       "        vertical-align: middle;\n",
       "    }\n",
       "\n",
       "    .dataframe tbody tr th {\n",
       "        vertical-align: top;\n",
       "    }\n",
       "\n",
       "    .dataframe thead th {\n",
       "        text-align: right;\n",
       "    }\n",
       "</style>\n",
       "<table border=\"1\" class=\"dataframe\">\n",
       "  <thead>\n",
       "    <tr style=\"text-align: right;\">\n",
       "      <th></th>\n",
       "      <th>BI-RADS assessment</th>\n",
       "      <th>Age</th>\n",
       "      <th>Shape</th>\n",
       "      <th>Margin</th>\n",
       "      <th>Density</th>\n",
       "      <th>Severity</th>\n",
       "    </tr>\n",
       "  </thead>\n",
       "  <tbody>\n",
       "    <tr>\n",
       "      <th>count</th>\n",
       "      <td>830.000000</td>\n",
       "      <td>830.000000</td>\n",
       "      <td>830.000000</td>\n",
       "      <td>830.000000</td>\n",
       "      <td>830.000000</td>\n",
       "      <td>830.000000</td>\n",
       "    </tr>\n",
       "    <tr>\n",
       "      <th>mean</th>\n",
       "      <td>4.393976</td>\n",
       "      <td>55.781928</td>\n",
       "      <td>2.781928</td>\n",
       "      <td>2.813253</td>\n",
       "      <td>2.915663</td>\n",
       "      <td>0.485542</td>\n",
       "    </tr>\n",
       "    <tr>\n",
       "      <th>std</th>\n",
       "      <td>1.888371</td>\n",
       "      <td>14.671782</td>\n",
       "      <td>1.242361</td>\n",
       "      <td>1.567175</td>\n",
       "      <td>0.350936</td>\n",
       "      <td>0.500092</td>\n",
       "    </tr>\n",
       "    <tr>\n",
       "      <th>min</th>\n",
       "      <td>0.000000</td>\n",
       "      <td>18.000000</td>\n",
       "      <td>1.000000</td>\n",
       "      <td>1.000000</td>\n",
       "      <td>1.000000</td>\n",
       "      <td>0.000000</td>\n",
       "    </tr>\n",
       "    <tr>\n",
       "      <th>25%</th>\n",
       "      <td>4.000000</td>\n",
       "      <td>46.000000</td>\n",
       "      <td>2.000000</td>\n",
       "      <td>1.000000</td>\n",
       "      <td>3.000000</td>\n",
       "      <td>0.000000</td>\n",
       "    </tr>\n",
       "    <tr>\n",
       "      <th>50%</th>\n",
       "      <td>4.000000</td>\n",
       "      <td>57.000000</td>\n",
       "      <td>3.000000</td>\n",
       "      <td>3.000000</td>\n",
       "      <td>3.000000</td>\n",
       "      <td>0.000000</td>\n",
       "    </tr>\n",
       "    <tr>\n",
       "      <th>75%</th>\n",
       "      <td>5.000000</td>\n",
       "      <td>66.000000</td>\n",
       "      <td>4.000000</td>\n",
       "      <td>4.000000</td>\n",
       "      <td>3.000000</td>\n",
       "      <td>1.000000</td>\n",
       "    </tr>\n",
       "    <tr>\n",
       "      <th>max</th>\n",
       "      <td>55.000000</td>\n",
       "      <td>96.000000</td>\n",
       "      <td>4.000000</td>\n",
       "      <td>5.000000</td>\n",
       "      <td>4.000000</td>\n",
       "      <td>1.000000</td>\n",
       "    </tr>\n",
       "  </tbody>\n",
       "</table>\n",
       "</div>"
      ],
      "text/plain": [
       "       BI-RADS assessment         Age       Shape      Margin     Density  \\\n",
       "count          830.000000  830.000000  830.000000  830.000000  830.000000   \n",
       "mean             4.393976   55.781928    2.781928    2.813253    2.915663   \n",
       "std              1.888371   14.671782    1.242361    1.567175    0.350936   \n",
       "min              0.000000   18.000000    1.000000    1.000000    1.000000   \n",
       "25%              4.000000   46.000000    2.000000    1.000000    3.000000   \n",
       "50%              4.000000   57.000000    3.000000    3.000000    3.000000   \n",
       "75%              5.000000   66.000000    4.000000    4.000000    3.000000   \n",
       "max             55.000000   96.000000    4.000000    5.000000    4.000000   \n",
       "\n",
       "         Severity  \n",
       "count  830.000000  \n",
       "mean     0.485542  \n",
       "std      0.500092  \n",
       "min      0.000000  \n",
       "25%      0.000000  \n",
       "50%      0.000000  \n",
       "75%      1.000000  \n",
       "max      1.000000  "
      ]
     },
     "execution_count": 6,
     "metadata": {},
     "output_type": "execute_result"
    }
   ],
   "source": [
    "df.describe()"
   ]
  },
  {
   "cell_type": "code",
   "execution_count": 7,
   "id": "abf11bf7",
   "metadata": {},
   "outputs": [],
   "source": [
    "df=df.sample(frac=1)  # shuffling the dataframe"
   ]
  },
  {
   "cell_type": "markdown",
   "id": "d6fb0b07",
   "metadata": {},
   "source": [
    "__Checking the data balanced or not__"
   ]
  },
  {
   "cell_type": "code",
   "execution_count": 8,
   "id": "2704ce78",
   "metadata": {},
   "outputs": [
    {
     "data": {
      "text/plain": [
       "0    427\n",
       "1    403\n",
       "Name: Severity, dtype: int64"
      ]
     },
     "execution_count": 8,
     "metadata": {},
     "output_type": "execute_result"
    }
   ],
   "source": [
    "df['Severity'].value_counts()  # so the data is balanced "
   ]
  },
  {
   "cell_type": "code",
   "execution_count": 9,
   "id": "0f99cc5f",
   "metadata": {},
   "outputs": [],
   "source": [
    "feature_values=df.drop('Severity',axis=1)\n",
    "labels_values=df['Severity']"
   ]
  },
  {
   "cell_type": "markdown",
   "id": "06f5cedc",
   "metadata": {},
   "source": [
    "## Standardaize the Variables"
   ]
  },
  {
   "cell_type": "code",
   "execution_count": 10,
   "id": "bcdf8720",
   "metadata": {},
   "outputs": [],
   "source": [
    "scale=StandardScaler()\n",
    "feature_values_scaled=scale.fit_transform(feature_values)"
   ]
  },
  {
   "cell_type": "code",
   "execution_count": 11,
   "id": "dbfff8bf",
   "metadata": {},
   "outputs": [
    {
     "data": {
      "text/plain": [
       "array([[ 0.3211177 ,  0.01487234, -0.62976801,  0.11923341,  0.24046607],\n",
       "       [-0.20875843, -2.16750019, -1.43517241, -1.157718  ,  0.24046607],\n",
       "       [-0.20875843,  0.15127063,  0.98104077,  1.39618483,  0.24046607],\n",
       "       ...,\n",
       "       [ 0.3211177 ,  0.62866462,  0.98104077,  1.39618483,  0.24046607],\n",
       "       [-0.20875843, -1.6901062 , -0.62976801, -1.157718  ,  0.24046607],\n",
       "       [ 0.3211177 ,  2.12904574,  0.98104077,  1.39618483,  0.24046607]])"
      ]
     },
     "execution_count": 11,
     "metadata": {},
     "output_type": "execute_result"
    }
   ],
   "source": [
    "feature_values_scaled"
   ]
  },
  {
   "cell_type": "markdown",
   "id": "a3b32396",
   "metadata": {},
   "source": [
    "## Train Test Split"
   ]
  },
  {
   "cell_type": "code",
   "execution_count": 12,
   "id": "5b855d84",
   "metadata": {},
   "outputs": [],
   "source": [
    "X_train,X_test,y_train,y_test=train_test_split(feature_values_scaled,labels_values,test_size=0.2,random_state=2)"
   ]
  },
  {
   "cell_type": "markdown",
   "id": "10bdd838",
   "metadata": {},
   "source": [
    "## 1) KNN"
   ]
  },
  {
   "cell_type": "code",
   "execution_count": 13,
   "id": "770b76cb",
   "metadata": {},
   "outputs": [],
   "source": [
    "model_knn=KNeighborsClassifier(n_neighbors=5).fit(X_train,y_train)"
   ]
  },
  {
   "cell_type": "code",
   "execution_count": 14,
   "id": "748a9765",
   "metadata": {},
   "outputs": [],
   "source": [
    "predict=model_knn.predict(X_test)"
   ]
  },
  {
   "cell_type": "code",
   "execution_count": 15,
   "id": "5437e803",
   "metadata": {},
   "outputs": [
    {
     "data": {
      "text/plain": [
       "0.7771084337349398"
      ]
     },
     "execution_count": 15,
     "metadata": {},
     "output_type": "execute_result"
    }
   ],
   "source": [
    "accuracy_score(y_test,predict)"
   ]
  },
  {
   "cell_type": "markdown",
   "id": "ec3b7bd6",
   "metadata": {},
   "source": [
    "__Confusion Matrix__"
   ]
  },
  {
   "cell_type": "code",
   "execution_count": 16,
   "id": "879bd3b2",
   "metadata": {},
   "outputs": [
    {
     "data": {
      "text/plain": [
       "array([[63, 18],\n",
       "       [19, 66]])"
      ]
     },
     "execution_count": 16,
     "metadata": {},
     "output_type": "execute_result"
    }
   ],
   "source": [
    "confusion_matrix(y_test,predict)    # so we have to decrease the false postives and false negatives"
   ]
  },
  {
   "cell_type": "markdown",
   "id": "418e877f",
   "metadata": {},
   "source": [
    "__Picking the correct n neighbor value__"
   ]
  },
  {
   "cell_type": "code",
   "execution_count": 17,
   "id": "f4325dda",
   "metadata": {},
   "outputs": [],
   "source": [
    "dict_accuracy=[]\n",
    "for i in range(1,50):\n",
    "    model_knn=KNeighborsClassifier(n_neighbors=i).fit(X_train,y_train)\n",
    "    predict=model_knn.predict(X_test)\n",
    "    val=accuracy_score(y_test,predict)\n",
    "    dict_accuracy.append(val)"
   ]
  },
  {
   "cell_type": "code",
   "execution_count": 18,
   "id": "3aa16659",
   "metadata": {},
   "outputs": [
    {
     "data": {
      "image/png": "[encoded data removed]",
      "text/plain": [
       "<Figure size 864x360 with 1 Axes>"
      ]
     },
     "metadata": {
      "needs_background": "light"
     },
     "output_type": "display_data"
    }
   ],
   "source": [
    "plt.figure(figsize=(12,5))\n",
    "plt.plot(range(1,50),dict_accuracy,marker='o',markerfacecolor='red')\n",
    "plt.show()"
   ]
  },
  {
   "cell_type": "markdown",
   "id": "ab21c884",
   "metadata": {},
   "source": [
    "So after the n=10 we are getting the constant accuracy score"
   ]
  },
  {
   "cell_type": "code",
   "execution_count": 19,
   "id": "09db1f3b",
   "metadata": {},
   "outputs": [
    {
     "data": {
      "text/plain": [
       "0.7891566265060241"
      ]
     },
     "execution_count": 19,
     "metadata": {},
     "output_type": "execute_result"
    }
   ],
   "source": [
    "model_knn=KNeighborsClassifier(n_neighbors=12).fit(X_train,y_train)\n",
    "predict=model_knn.predict(X_test)\n",
    "accuracy_score(y_test,predict)"
   ]
  },
  {
   "cell_type": "code",
   "execution_count": 20,
   "id": "198f3a2a",
   "metadata": {},
   "outputs": [
    {
     "data": {
      "text/plain": [
       "array([[65, 16],\n",
       "       [19, 66]])"
      ]
     },
     "execution_count": 20,
     "metadata": {},
     "output_type": "execute_result"
    }
   ],
   "source": [
    "confusion_matrix(y_test,predict)"
   ]
  },
  {
   "cell_type": "markdown",
   "id": "b561d903",
   "metadata": {},
   "source": [
    "__Overall accuracy of the model__"
   ]
  },
  {
   "cell_type": "code",
   "execution_count": 21,
   "id": "5e3d5c18",
   "metadata": {},
   "outputs": [
    {
     "data": {
      "text/plain": [
       "0.8108433734939758"
      ]
     },
     "execution_count": 21,
     "metadata": {},
     "output_type": "execute_result"
    }
   ],
   "source": [
    "cross_knn=cross_val_score(model_knn,feature_values_scaled,labels_values,cv=10)\n",
    "cross_knn.mean()"
   ]
  },
  {
   "cell_type": "markdown",
   "id": "f3fba008",
   "metadata": {},
   "source": [
    "## 2) Logistic Regression"
   ]
  },
  {
   "cell_type": "code",
   "execution_count": 22,
   "id": "70f110c8",
   "metadata": {},
   "outputs": [
    {
     "data": {
      "text/plain": [
       "0.8192771084337349"
      ]
     },
     "execution_count": 22,
     "metadata": {},
     "output_type": "execute_result"
    }
   ],
   "source": [
    "model_logistic=LogisticRegression(random_state=2).fit(X_train,y_train)\n",
    "model_logistic.score(X_test,y_test)"
   ]
  },
  {
   "cell_type": "markdown",
   "id": "11a1b20f",
   "metadata": {},
   "source": [
    "__Overall accuracy of the model__"
   ]
  },
  {
   "cell_type": "code",
   "execution_count": 23,
   "id": "56823b4c",
   "metadata": {},
   "outputs": [
    {
     "data": {
      "text/plain": [
       "0.8240963855421686"
      ]
     },
     "execution_count": 23,
     "metadata": {},
     "output_type": "execute_result"
    }
   ],
   "source": [
    "cross_logistic=cross_val_score(model_logistic,feature_values_scaled,labels_values,cv=10)\n",
    "cross_logistic.mean()"
   ]
  },
  {
   "cell_type": "markdown",
   "id": "df6a54dc",
   "metadata": {},
   "source": [
    "## 3) SVM"
   ]
  },
  {
   "cell_type": "code",
   "execution_count": 24,
   "id": "5fc02ee1",
   "metadata": {},
   "outputs": [
    {
     "data": {
      "text/plain": [
       "0.8192771084337349"
      ]
     },
     "execution_count": 24,
     "metadata": {},
     "output_type": "execute_result"
    }
   ],
   "source": [
    "model_svm=svm.SVC(kernel='rbf',C=1).fit(X_train,y_train)\n",
    "model_svm.score(X_test,y_test)"
   ]
  },
  {
   "cell_type": "markdown",
   "id": "b884d50f",
   "metadata": {},
   "source": [
    "Now after the hyperparamer tuning the best kernel and the c value"
   ]
  },
  {
   "cell_type": "markdown",
   "id": "da47277f",
   "metadata": {},
   "source": [
    "__Overall accuracy of the model__"
   ]
  },
  {
   "cell_type": "code",
   "execution_count": 25,
   "id": "70b79a3f",
   "metadata": {},
   "outputs": [
    {
     "data": {
      "text/plain": [
       "0.8265060240963855"
      ]
     },
     "execution_count": 25,
     "metadata": {},
     "output_type": "execute_result"
    }
   ],
   "source": [
    "cross_svm=cross_val_score(model_svm,feature_values_scaled,labels_values,cv=10)\n",
    "cross_svm.mean()"
   ]
  },
  {
   "cell_type": "markdown",
   "id": "4b2944b4",
   "metadata": {},
   "source": [
    "## 4) Naive Bayes\n",
    "\n",
    "\n",
    "\n",
    "For the naive bayes the values has to be normalized "
   ]
  },
  {
   "cell_type": "markdown",
   "id": "3f5259e4",
   "metadata": {},
   "source": [
    "__Normalizing the variables__"
   ]
  },
  {
   "cell_type": "code",
   "execution_count": 26,
   "id": "4200e2ed",
   "metadata": {},
   "outputs": [],
   "source": [
    "scaler_minmax=MinMaxScaler()\n",
    "feature_values_minmax=scaler_minmax.fit_transform(feature_values)"
   ]
  },
  {
   "cell_type": "code",
   "execution_count": 27,
   "id": "b36857f7",
   "metadata": {},
   "outputs": [],
   "source": [
    "model_naive=MultinomialNB()"
   ]
  },
  {
   "cell_type": "markdown",
   "id": "e4f59dda",
   "metadata": {},
   "source": [
    "__Overall accuracy of the model__"
   ]
  },
  {
   "cell_type": "code",
   "execution_count": 28,
   "id": "d0125250",
   "metadata": {},
   "outputs": [
    {
     "data": {
      "text/plain": [
       "0.7650602409638554"
      ]
     },
     "execution_count": 28,
     "metadata": {},
     "output_type": "execute_result"
    }
   ],
   "source": [
    "cross_naive=cross_val_score(model_naive,feature_values,labels_values,cv=10)\n",
    "cross_naive.mean()"
   ]
  },
  {
   "cell_type": "markdown",
   "id": "9f4e9ef4",
   "metadata": {},
   "source": [
    "## 5) Decison Trees and Random Forest"
   ]
  },
  {
   "cell_type": "code",
   "execution_count": 29,
   "id": "0603250b",
   "metadata": {},
   "outputs": [],
   "source": [
    "model_decision=DecisionTreeClassifier(random_state=2).fit(X_train,y_train)"
   ]
  },
  {
   "cell_type": "code",
   "execution_count": 30,
   "id": "2ff23d24",
   "metadata": {},
   "outputs": [
    {
     "data": {
      "text/plain": [
       "0.7469879518072289"
      ]
     },
     "execution_count": 30,
     "metadata": {},
     "output_type": "execute_result"
    }
   ],
   "source": [
    "model_decision.score(X_test,y_test)"
   ]
  },
  {
   "cell_type": "code",
   "execution_count": 31,
   "id": "7a414cf9",
   "metadata": {},
   "outputs": [
    {
     "data": {
      "text/plain": [
       "0.7638554216867469"
      ]
     },
     "execution_count": 31,
     "metadata": {},
     "output_type": "execute_result"
    }
   ],
   "source": [
    "cross_decison=cross_val_score(model_decision,feature_values_scaled,labels_values,cv=10)\n",
    "cross_decison.mean()"
   ]
  },
  {
   "cell_type": "markdown",
   "id": "aeac2320",
   "metadata": {},
   "source": [
    "__Random Forest__"
   ]
  },
  {
   "cell_type": "code",
   "execution_count": 32,
   "id": "d84ec89d",
   "metadata": {},
   "outputs": [],
   "source": [
    "model_random=RandomForestClassifier(n_estimators=10,random_state=2).fit(X_train,y_train)"
   ]
  },
  {
   "cell_type": "code",
   "execution_count": 33,
   "id": "64124032",
   "metadata": {},
   "outputs": [
    {
     "data": {
      "text/plain": [
       "0.7349397590361446"
      ]
     },
     "execution_count": 33,
     "metadata": {},
     "output_type": "execute_result"
    }
   ],
   "source": [
    "model_random.score(X_test,y_test)"
   ]
  },
  {
   "cell_type": "markdown",
   "id": "68c1f31b",
   "metadata": {},
   "source": [
    "__Overall accuracy of the model__"
   ]
  },
  {
   "cell_type": "code",
   "execution_count": 34,
   "id": "5dcec69e",
   "metadata": {},
   "outputs": [
    {
     "data": {
      "text/plain": [
       "0.7867469879518072"
      ]
     },
     "execution_count": 34,
     "metadata": {},
     "output_type": "execute_result"
    }
   ],
   "source": [
    "cross_random=cross_val_score(model_random,feature_values_scaled,labels_values,cv=10)\n",
    "cross_random.mean()"
   ]
  },
  {
   "cell_type": "markdown",
   "id": "e25f04b6",
   "metadata": {},
   "source": [
    "## 6) XG Boost"
   ]
  },
  {
   "cell_type": "markdown",
   "id": "4caf47cc",
   "metadata": {},
   "source": [
    "The values in the XG Boost uses the DMatix so converting the data\n",
    "into the form "
   ]
  },
  {
   "cell_type": "code",
   "execution_count": 35,
   "id": "191257a3",
   "metadata": {},
   "outputs": [],
   "source": [
    "train=xgb.DMatrix(X_train,y_train)\n",
    "test=xgb.DMatrix(X_test,y_test)"
   ]
  },
  {
   "cell_type": "markdown",
   "id": "759036df",
   "metadata": {},
   "source": [
    "Setting the parameters and the epochs values"
   ]
  },
  {
   "cell_type": "code",
   "execution_count": 36,
   "id": "bc4e0b27",
   "metadata": {},
   "outputs": [],
   "source": [
    "param={\n",
    "    'max_depth': 3,\n",
    "    'eta': 0.1,\n",
    "    'objective': 'multi:softmax',\n",
    "    'num_class': 2\n",
    "}\n",
    "epochs=10"
   ]
  },
  {
   "cell_type": "markdown",
   "id": "37c8650c",
   "metadata": {},
   "source": [
    "After the hyperparameter tuning these are the best values"
   ]
  },
  {
   "cell_type": "code",
   "execution_count": 37,
   "id": "04c59862",
   "metadata": {},
   "outputs": [
    {
     "name": "stdout",
     "output_type": "stream",
     "text": [
      "[10:41:44] WARNING: /opt/concourse/worker/volumes/live/7a2b9f41-3287-451b-6691-43e9a6c0910f/volume/xgboost-split_1619728204606/work/src/learner.cc:1061: Starting in XGBoost 1.3.0, the default evaluation metric used with the objective 'multi:softmax' was changed from 'merror' to 'mlogloss'. Explicitly set eval_metric if you'd like to restore the old behavior.\n"
     ]
    }
   ],
   "source": [
    "model_xgboost=xgb.train(param,train,epochs)"
   ]
  },
  {
   "cell_type": "code",
   "execution_count": 38,
   "id": "2570bda7",
   "metadata": {},
   "outputs": [],
   "source": [
    "predict=model_xgboost.predict(test)"
   ]
  },
  {
   "cell_type": "code",
   "execution_count": 39,
   "id": "22f32dfb",
   "metadata": {},
   "outputs": [
    {
     "data": {
      "text/plain": [
       "0.8072289156626506"
      ]
     },
     "execution_count": 39,
     "metadata": {},
     "output_type": "execute_result"
    }
   ],
   "source": [
    "accuracy_score(y_test,predict)"
   ]
  },
  {
   "cell_type": "markdown",
   "id": "39988827",
   "metadata": {},
   "source": [
    "__Confusion Matrix__"
   ]
  },
  {
   "cell_type": "code",
   "execution_count": 40,
   "id": "a2f950d5",
   "metadata": {},
   "outputs": [
    {
     "data": {
      "text/plain": [
       "array([[69, 12],\n",
       "       [20, 65]])"
      ]
     },
     "execution_count": 40,
     "metadata": {},
     "output_type": "execute_result"
    }
   ],
   "source": [
    "confusion_matrix(y_test,predict)"
   ]
  },
  {
   "cell_type": "code",
   "execution_count": null,
   "id": "7ef034d4",
   "metadata": {},
   "outputs": [],
   "source": []
  },
  {
   "cell_type": "code",
   "execution_count": null,
   "id": "ac60c458",
   "metadata": {},
   "outputs": [],
   "source": []
  },
  {
   "cell_type": "markdown",
   "id": "c184f39b",
   "metadata": {},
   "source": [
    "## So by applying all the Machine Learning algorithm we are getting the \n",
    "\n",
    "## Highest accuracy of 80-83% in the KNN , Logistic Regression and the SVM "
   ]
  },
  {
   "cell_type": "code",
   "execution_count": null,
   "id": "6eb6fae4",
   "metadata": {},
   "outputs": [],
   "source": []
  }
 ],
 "metadata": {
  "kernelspec": {
   "display_name": "Python 3",
   "language": "python",
   "name": "python3"
  },
  "language_info": {
   "codemirror_mode": {
    "name": "ipython",
    "version": 3
   },
   "file_extension": ".py",
   "mimetype": "text/x-python",
   "name": "python",
   "nbconvert_exporter": "python",
   "pygments_lexer": "ipython3",
   "version": "3.7.10"
  }
 },
 "nbformat": 4,
 "nbformat_minor": 5
}
