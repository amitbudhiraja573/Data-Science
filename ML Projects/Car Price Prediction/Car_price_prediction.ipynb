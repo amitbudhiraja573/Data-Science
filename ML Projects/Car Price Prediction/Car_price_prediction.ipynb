{
 "cells": [
  {
   "cell_type": "markdown",
   "id": "e0d1e801",
   "metadata": {},
   "source": [
    "# Car Price Prediction"
   ]
  },
  {
   "cell_type": "markdown",
   "id": "de6d993c",
   "metadata": {},
   "source": [
    "\n",
    "\n",
    "__Using__ \n",
    "\n",
    "__1) Multiple Regression__\n",
    "\n",
    "__2) Random Forest Regressor__"
   ]
  },
  {
   "cell_type": "code",
   "execution_count": null,
   "id": "76c6dd76",
   "metadata": {},
   "outputs": [],
   "source": []
  },
  {
   "cell_type": "markdown",
   "id": "49a5503b",
   "metadata": {},
   "source": [
    "__Importing the Libraries__"
   ]
  },
  {
   "cell_type": "code",
   "execution_count": 30,
   "id": "40b6dea2",
   "metadata": {},
   "outputs": [],
   "source": [
    "import pandas as pd\n",
    "import numpy as np\n",
    "import matplotlib.pyplot as plt\n",
    "import seaborn as sns\n",
    "from sklearn.model_selection import train_test_split\n",
    "from sklearn import metrics\n",
    "import statsmodels.api as sm\n",
    "from sklearn.ensemble import RandomForestRegressor"
   ]
  },
  {
   "cell_type": "code",
   "execution_count": 2,
   "id": "3749d302",
   "metadata": {},
   "outputs": [
    {
     "data": {
      "text/html": [
       "<div>\n",
       "<style scoped>\n",
       "    .dataframe tbody tr th:only-of-type {\n",
       "        vertical-align: middle;\n",
       "    }\n",
       "\n",
       "    .dataframe tbody tr th {\n",
       "        vertical-align: top;\n",
       "    }\n",
       "\n",
       "    .dataframe thead th {\n",
       "        text-align: right;\n",
       "    }\n",
       "</style>\n",
       "<table border=\"1\" class=\"dataframe\">\n",
       "  <thead>\n",
       "    <tr style=\"text-align: right;\">\n",
       "      <th></th>\n",
       "      <th>name</th>\n",
       "      <th>year</th>\n",
       "      <th>selling_price</th>\n",
       "      <th>km_driven</th>\n",
       "      <th>fuel</th>\n",
       "      <th>seller_type</th>\n",
       "      <th>transmission</th>\n",
       "      <th>owner</th>\n",
       "    </tr>\n",
       "  </thead>\n",
       "  <tbody>\n",
       "    <tr>\n",
       "      <th>0</th>\n",
       "      <td>Maruti 800 AC</td>\n",
       "      <td>2007</td>\n",
       "      <td>60000</td>\n",
       "      <td>70000</td>\n",
       "      <td>Petrol</td>\n",
       "      <td>Individual</td>\n",
       "      <td>Manual</td>\n",
       "      <td>First Owner</td>\n",
       "    </tr>\n",
       "    <tr>\n",
       "      <th>1</th>\n",
       "      <td>Maruti Wagon R LXI Minor</td>\n",
       "      <td>2007</td>\n",
       "      <td>135000</td>\n",
       "      <td>50000</td>\n",
       "      <td>Petrol</td>\n",
       "      <td>Individual</td>\n",
       "      <td>Manual</td>\n",
       "      <td>First Owner</td>\n",
       "    </tr>\n",
       "    <tr>\n",
       "      <th>2</th>\n",
       "      <td>Hyundai Verna 1.6 SX</td>\n",
       "      <td>2012</td>\n",
       "      <td>600000</td>\n",
       "      <td>100000</td>\n",
       "      <td>Diesel</td>\n",
       "      <td>Individual</td>\n",
       "      <td>Manual</td>\n",
       "      <td>First Owner</td>\n",
       "    </tr>\n",
       "    <tr>\n",
       "      <th>3</th>\n",
       "      <td>Datsun RediGO T Option</td>\n",
       "      <td>2017</td>\n",
       "      <td>250000</td>\n",
       "      <td>46000</td>\n",
       "      <td>Petrol</td>\n",
       "      <td>Individual</td>\n",
       "      <td>Manual</td>\n",
       "      <td>First Owner</td>\n",
       "    </tr>\n",
       "    <tr>\n",
       "      <th>4</th>\n",
       "      <td>Honda Amaze VX i-DTEC</td>\n",
       "      <td>2014</td>\n",
       "      <td>450000</td>\n",
       "      <td>141000</td>\n",
       "      <td>Diesel</td>\n",
       "      <td>Individual</td>\n",
       "      <td>Manual</td>\n",
       "      <td>Second Owner</td>\n",
       "    </tr>\n",
       "  </tbody>\n",
       "</table>\n",
       "</div>"
      ],
      "text/plain": [
       "                       name  year  selling_price  km_driven    fuel  \\\n",
       "0             Maruti 800 AC  2007          60000      70000  Petrol   \n",
       "1  Maruti Wagon R LXI Minor  2007         135000      50000  Petrol   \n",
       "2      Hyundai Verna 1.6 SX  2012         600000     100000  Diesel   \n",
       "3    Datsun RediGO T Option  2017         250000      46000  Petrol   \n",
       "4     Honda Amaze VX i-DTEC  2014         450000     141000  Diesel   \n",
       "\n",
       "  seller_type transmission         owner  \n",
       "0  Individual       Manual   First Owner  \n",
       "1  Individual       Manual   First Owner  \n",
       "2  Individual       Manual   First Owner  \n",
       "3  Individual       Manual   First Owner  \n",
       "4  Individual       Manual  Second Owner  "
      ]
     },
     "execution_count": 2,
     "metadata": {},
     "output_type": "execute_result"
    }
   ],
   "source": [
    "df=pd.read_csv('/Users/amit/Documents/Data Science/Machine Lerning and Data science/ML Projects/Car Price Prediction/CAR DETAILS FROM CAR DEKHO.csv')\n",
    "df.head()"
   ]
  },
  {
   "cell_type": "markdown",
   "id": "414cfbe4",
   "metadata": {},
   "source": [
    "__Data Analysis__"
   ]
  },
  {
   "cell_type": "code",
   "execution_count": 3,
   "id": "edb37edd",
   "metadata": {},
   "outputs": [
    {
     "name": "stdout",
     "output_type": "stream",
     "text": [
      "<class 'pandas.core.frame.DataFrame'>\n",
      "RangeIndex: 4340 entries, 0 to 4339\n",
      "Data columns (total 8 columns):\n",
      " #   Column         Non-Null Count  Dtype \n",
      "---  ------         --------------  ----- \n",
      " 0   name           4340 non-null   object\n",
      " 1   year           4340 non-null   int64 \n",
      " 2   selling_price  4340 non-null   int64 \n",
      " 3   km_driven      4340 non-null   int64 \n",
      " 4   fuel           4340 non-null   object\n",
      " 5   seller_type    4340 non-null   object\n",
      " 6   transmission   4340 non-null   object\n",
      " 7   owner          4340 non-null   object\n",
      "dtypes: int64(3), object(5)\n",
      "memory usage: 271.4+ KB\n"
     ]
    }
   ],
   "source": [
    "df.info()  # to see into the data "
   ]
  },
  {
   "cell_type": "code",
   "execution_count": 4,
   "id": "b4a08bcd",
   "metadata": {},
   "outputs": [
    {
     "data": {
      "text/plain": [
       "name             0\n",
       "year             0\n",
       "selling_price    0\n",
       "km_driven        0\n",
       "fuel             0\n",
       "seller_type      0\n",
       "transmission     0\n",
       "owner            0\n",
       "dtype: int64"
      ]
     },
     "execution_count": 4,
     "metadata": {},
     "output_type": "execute_result"
    }
   ],
   "source": [
    "df.isnull().sum()    # to check is there is missing values or not "
   ]
  },
  {
   "cell_type": "code",
   "execution_count": 5,
   "id": "530f9905",
   "metadata": {},
   "outputs": [
    {
     "data": {
      "text/html": [
       "<div>\n",
       "<style scoped>\n",
       "    .dataframe tbody tr th:only-of-type {\n",
       "        vertical-align: middle;\n",
       "    }\n",
       "\n",
       "    .dataframe tbody tr th {\n",
       "        vertical-align: top;\n",
       "    }\n",
       "\n",
       "    .dataframe thead th {\n",
       "        text-align: right;\n",
       "    }\n",
       "</style>\n",
       "<table border=\"1\" class=\"dataframe\">\n",
       "  <thead>\n",
       "    <tr style=\"text-align: right;\">\n",
       "      <th></th>\n",
       "      <th>year</th>\n",
       "      <th>selling_price</th>\n",
       "      <th>km_driven</th>\n",
       "    </tr>\n",
       "  </thead>\n",
       "  <tbody>\n",
       "    <tr>\n",
       "      <th>count</th>\n",
       "      <td>4340.000000</td>\n",
       "      <td>4.340000e+03</td>\n",
       "      <td>4340.000000</td>\n",
       "    </tr>\n",
       "    <tr>\n",
       "      <th>mean</th>\n",
       "      <td>2013.090783</td>\n",
       "      <td>5.041273e+05</td>\n",
       "      <td>66215.777419</td>\n",
       "    </tr>\n",
       "    <tr>\n",
       "      <th>std</th>\n",
       "      <td>4.215344</td>\n",
       "      <td>5.785487e+05</td>\n",
       "      <td>46644.102194</td>\n",
       "    </tr>\n",
       "    <tr>\n",
       "      <th>min</th>\n",
       "      <td>1992.000000</td>\n",
       "      <td>2.000000e+04</td>\n",
       "      <td>1.000000</td>\n",
       "    </tr>\n",
       "    <tr>\n",
       "      <th>25%</th>\n",
       "      <td>2011.000000</td>\n",
       "      <td>2.087498e+05</td>\n",
       "      <td>35000.000000</td>\n",
       "    </tr>\n",
       "    <tr>\n",
       "      <th>50%</th>\n",
       "      <td>2014.000000</td>\n",
       "      <td>3.500000e+05</td>\n",
       "      <td>60000.000000</td>\n",
       "    </tr>\n",
       "    <tr>\n",
       "      <th>75%</th>\n",
       "      <td>2016.000000</td>\n",
       "      <td>6.000000e+05</td>\n",
       "      <td>90000.000000</td>\n",
       "    </tr>\n",
       "    <tr>\n",
       "      <th>max</th>\n",
       "      <td>2020.000000</td>\n",
       "      <td>8.900000e+06</td>\n",
       "      <td>806599.000000</td>\n",
       "    </tr>\n",
       "  </tbody>\n",
       "</table>\n",
       "</div>"
      ],
      "text/plain": [
       "              year  selling_price      km_driven\n",
       "count  4340.000000   4.340000e+03    4340.000000\n",
       "mean   2013.090783   5.041273e+05   66215.777419\n",
       "std       4.215344   5.785487e+05   46644.102194\n",
       "min    1992.000000   2.000000e+04       1.000000\n",
       "25%    2011.000000   2.087498e+05   35000.000000\n",
       "50%    2014.000000   3.500000e+05   60000.000000\n",
       "75%    2016.000000   6.000000e+05   90000.000000\n",
       "max    2020.000000   8.900000e+06  806599.000000"
      ]
     },
     "execution_count": 5,
     "metadata": {},
     "output_type": "execute_result"
    }
   ],
   "source": [
    "df.describe()"
   ]
  },
  {
   "cell_type": "code",
   "execution_count": 6,
   "id": "2c89e6a8",
   "metadata": {},
   "outputs": [],
   "source": [
    "df=df.sample(frac=1).reset_index(drop=True)"
   ]
  },
  {
   "cell_type": "code",
   "execution_count": 7,
   "id": "afef8d6d",
   "metadata": {},
   "outputs": [
    {
     "name": "stdout",
     "output_type": "stream",
     "text": [
      "['Diesel' 'CNG' 'Petrol' 'LPG' 'Electric']\n",
      "\n",
      "[2016 2009 2007 2015 2013 2011 2012 2008 2014 2018 2019 2017 2002 2010\n",
      " 2005 2003 2006 2004 2000 2001 2020 1998 1992 1997 1999 1996 1995]\n",
      "\n",
      "['Individual' 'Trustmark Dealer' 'Dealer']\n",
      "\n",
      "['Manual' 'Automatic']\n",
      "\n",
      "['First Owner' 'Second Owner' 'Third Owner' 'Fourth & Above Owner'\n",
      " 'Test Drive Car']\n"
     ]
    }
   ],
   "source": [
    "print(df['fuel'].unique())\n",
    "print()\n",
    "print(df['year'].unique())\n",
    "print()\n",
    "print(df['seller_type'].unique())\n",
    "print()\n",
    "print(df['transmission'].unique())\n",
    "print()\n",
    "print(df['owner'].unique())"
   ]
  },
  {
   "cell_type": "markdown",
   "id": "7d310f46",
   "metadata": {},
   "source": [
    "__Now to analyze the selling price and km_driven first__"
   ]
  },
  {
   "cell_type": "code",
   "execution_count": 8,
   "id": "bd4d594c",
   "metadata": {},
   "outputs": [
    {
     "data": {
      "text/plain": [
       "806599"
      ]
     },
     "execution_count": 8,
     "metadata": {},
     "output_type": "execute_result"
    }
   ],
   "source": [
    "df['km_driven'].max()"
   ]
  },
  {
   "cell_type": "code",
   "execution_count": 9,
   "id": "e18f3140",
   "metadata": {},
   "outputs": [],
   "source": [
    "df1=df[['selling_price','km_driven']]\n",
    "bins=np.arange(0,80000,10000)\n",
    "groups=df1.groupby(pd.cut(df['km_driven'],bins)).mean()"
   ]
  },
  {
   "cell_type": "code",
   "execution_count": 10,
   "id": "4be3c6b9",
   "metadata": {},
   "outputs": [
    {
     "data": {
      "text/plain": [
       "Text(0, 0.5, 'selling_price')"
      ]
     },
     "execution_count": 10,
     "metadata": {},
     "output_type": "execute_result"
    },
    {
     "data": {
      "image/png": "[encoded data removed]",
      "text/plain": [
       "<Figure size 720x360 with 1 Axes>"
      ]
     },
     "metadata": {
      "needs_background": "light"
     },
     "output_type": "display_data"
    }
   ],
   "source": [
    "plt.figure(figsize=(10,5))\n",
    "groups['selling_price'].plot(kind='line')\n",
    "plt.ylabel('selling_price')"
   ]
  },
  {
   "cell_type": "markdown",
   "id": "95534c34",
   "metadata": {},
   "source": [
    "So by this we can see that cars having less km_driven have the more selling price"
   ]
  },
  {
   "cell_type": "code",
   "execution_count": 29,
   "id": "46327b13",
   "metadata": {},
   "outputs": [
    {
     "name": "stderr",
     "output_type": "stream",
     "text": [
      "/opt/anaconda3/envs/tf/lib/python3.7/site-packages/seaborn/distributions.py:2557: FutureWarning: `distplot` is a deprecated function and will be removed in a future version. Please adapt your code to use either `displot` (a figure-level function with similar flexibility) or `histplot` (an axes-level function for histograms).\n",
      "  warnings.warn(msg, FutureWarning)\n"
     ]
    },
    {
     "data": {
      "text/plain": [
       "<AxesSubplot:xlabel='selling_price', ylabel='Density'>"
      ]
     },
     "execution_count": 29,
     "metadata": {},
     "output_type": "execute_result"
    },
    {
     "data": {
      "image/png": "[encoded data removed]",
      "text/plain": [
       "<Figure size 720x360 with 1 Axes>"
      ]
     },
     "metadata": {
      "needs_background": "light"
     },
     "output_type": "display_data"
    }
   ],
   "source": [
    "plt.figure(figsize=(10,5))\n",
    "sns.distplot(df['selling_price'],color='green')"
   ]
  },
  {
   "cell_type": "markdown",
   "id": "9c407ffe",
   "metadata": {},
   "source": [
    "## Encoding the variables "
   ]
  },
  {
   "cell_type": "code",
   "execution_count": 12,
   "id": "4bb93990",
   "metadata": {},
   "outputs": [],
   "source": [
    "dict_fuel={'Petrol':0,'Diesel':1,'CNG':2,'LPG':3,'Electric':4}\n",
    "dict_sellertype={'Individual':0,'Dealer':1,'Trustmark Dealer':2}\n",
    "dict_transmission={'Manual':0,'Automatic':1}\n",
    "dict_owner={'First Owner':0,'Second Owner':1,'Fourth & Above Owner':2,'Third Owner':3,'Test Drive Car':4}\n",
    "df['fuel']=df['fuel'].map(dict_fuel)\n",
    "df['seller_type']=df['seller_type'].map(dict_sellertype)\n",
    "df['transmission']=df['transmission'].map(dict_transmission)\n",
    "df['owner']=df['owner'].map(dict_owner)"
   ]
  },
  {
   "cell_type": "code",
   "execution_count": 13,
   "id": "e5dfc85b",
   "metadata": {},
   "outputs": [
    {
     "data": {
      "text/html": [
       "<div>\n",
       "<style scoped>\n",
       "    .dataframe tbody tr th:only-of-type {\n",
       "        vertical-align: middle;\n",
       "    }\n",
       "\n",
       "    .dataframe tbody tr th {\n",
       "        vertical-align: top;\n",
       "    }\n",
       "\n",
       "    .dataframe thead th {\n",
       "        text-align: right;\n",
       "    }\n",
       "</style>\n",
       "<table border=\"1\" class=\"dataframe\">\n",
       "  <thead>\n",
       "    <tr style=\"text-align: right;\">\n",
       "      <th></th>\n",
       "      <th>name</th>\n",
       "      <th>year</th>\n",
       "      <th>selling_price</th>\n",
       "      <th>km_driven</th>\n",
       "      <th>fuel</th>\n",
       "      <th>seller_type</th>\n",
       "      <th>transmission</th>\n",
       "      <th>owner</th>\n",
       "    </tr>\n",
       "  </thead>\n",
       "  <tbody>\n",
       "    <tr>\n",
       "      <th>0</th>\n",
       "      <td>Hyundai i20 Asta 1.4 CRDi</td>\n",
       "      <td>2016</td>\n",
       "      <td>430000</td>\n",
       "      <td>80000</td>\n",
       "      <td>1</td>\n",
       "      <td>0</td>\n",
       "      <td>0</td>\n",
       "      <td>0</td>\n",
       "    </tr>\n",
       "    <tr>\n",
       "      <th>1</th>\n",
       "      <td>Maruti Wagon R LXI CNG</td>\n",
       "      <td>2016</td>\n",
       "      <td>325000</td>\n",
       "      <td>80000</td>\n",
       "      <td>2</td>\n",
       "      <td>0</td>\n",
       "      <td>0</td>\n",
       "      <td>1</td>\n",
       "    </tr>\n",
       "    <tr>\n",
       "      <th>2</th>\n",
       "      <td>Honda City 1.5 V MT</td>\n",
       "      <td>2009</td>\n",
       "      <td>250000</td>\n",
       "      <td>90000</td>\n",
       "      <td>0</td>\n",
       "      <td>0</td>\n",
       "      <td>0</td>\n",
       "      <td>1</td>\n",
       "    </tr>\n",
       "    <tr>\n",
       "      <th>3</th>\n",
       "      <td>Maruti Wagon R VXI Minor</td>\n",
       "      <td>2007</td>\n",
       "      <td>80000</td>\n",
       "      <td>60000</td>\n",
       "      <td>0</td>\n",
       "      <td>0</td>\n",
       "      <td>0</td>\n",
       "      <td>3</td>\n",
       "    </tr>\n",
       "    <tr>\n",
       "      <th>4</th>\n",
       "      <td>Mahindra NuvoSport N8</td>\n",
       "      <td>2016</td>\n",
       "      <td>525000</td>\n",
       "      <td>110000</td>\n",
       "      <td>1</td>\n",
       "      <td>0</td>\n",
       "      <td>0</td>\n",
       "      <td>0</td>\n",
       "    </tr>\n",
       "  </tbody>\n",
       "</table>\n",
       "</div>"
      ],
      "text/plain": [
       "                        name  year  selling_price  km_driven  fuel  \\\n",
       "0  Hyundai i20 Asta 1.4 CRDi  2016         430000      80000     1   \n",
       "1     Maruti Wagon R LXI CNG  2016         325000      80000     2   \n",
       "2        Honda City 1.5 V MT  2009         250000      90000     0   \n",
       "3   Maruti Wagon R VXI Minor  2007          80000      60000     0   \n",
       "4      Mahindra NuvoSport N8  2016         525000     110000     1   \n",
       "\n",
       "   seller_type  transmission  owner  \n",
       "0            0             0      0  \n",
       "1            0             0      1  \n",
       "2            0             0      1  \n",
       "3            0             0      3  \n",
       "4            0             0      0  "
      ]
     },
     "execution_count": 13,
     "metadata": {},
     "output_type": "execute_result"
    }
   ],
   "source": [
    "df.head()"
   ]
  },
  {
   "cell_type": "code",
   "execution_count": 14,
   "id": "ea6df431",
   "metadata": {},
   "outputs": [
    {
     "data": {
      "text/html": [
       "<div>\n",
       "<style scoped>\n",
       "    .dataframe tbody tr th:only-of-type {\n",
       "        vertical-align: middle;\n",
       "    }\n",
       "\n",
       "    .dataframe tbody tr th {\n",
       "        vertical-align: top;\n",
       "    }\n",
       "\n",
       "    .dataframe thead th {\n",
       "        text-align: right;\n",
       "    }\n",
       "</style>\n",
       "<table border=\"1\" class=\"dataframe\">\n",
       "  <thead>\n",
       "    <tr style=\"text-align: right;\">\n",
       "      <th></th>\n",
       "      <th>year</th>\n",
       "      <th>km_driven</th>\n",
       "      <th>fuel</th>\n",
       "      <th>seller_type</th>\n",
       "      <th>transmission</th>\n",
       "      <th>owner</th>\n",
       "    </tr>\n",
       "  </thead>\n",
       "  <tbody>\n",
       "    <tr>\n",
       "      <th>0</th>\n",
       "      <td>2016</td>\n",
       "      <td>80000</td>\n",
       "      <td>1</td>\n",
       "      <td>0</td>\n",
       "      <td>0</td>\n",
       "      <td>0</td>\n",
       "    </tr>\n",
       "    <tr>\n",
       "      <th>1</th>\n",
       "      <td>2016</td>\n",
       "      <td>80000</td>\n",
       "      <td>2</td>\n",
       "      <td>0</td>\n",
       "      <td>0</td>\n",
       "      <td>1</td>\n",
       "    </tr>\n",
       "    <tr>\n",
       "      <th>2</th>\n",
       "      <td>2009</td>\n",
       "      <td>90000</td>\n",
       "      <td>0</td>\n",
       "      <td>0</td>\n",
       "      <td>0</td>\n",
       "      <td>1</td>\n",
       "    </tr>\n",
       "    <tr>\n",
       "      <th>3</th>\n",
       "      <td>2007</td>\n",
       "      <td>60000</td>\n",
       "      <td>0</td>\n",
       "      <td>0</td>\n",
       "      <td>0</td>\n",
       "      <td>3</td>\n",
       "    </tr>\n",
       "    <tr>\n",
       "      <th>4</th>\n",
       "      <td>2016</td>\n",
       "      <td>110000</td>\n",
       "      <td>1</td>\n",
       "      <td>0</td>\n",
       "      <td>0</td>\n",
       "      <td>0</td>\n",
       "    </tr>\n",
       "  </tbody>\n",
       "</table>\n",
       "</div>"
      ],
      "text/plain": [
       "   year  km_driven  fuel  seller_type  transmission  owner\n",
       "0  2016      80000     1            0             0      0\n",
       "1  2016      80000     2            0             0      1\n",
       "2  2009      90000     0            0             0      1\n",
       "3  2007      60000     0            0             0      3\n",
       "4  2016     110000     1            0             0      0"
      ]
     },
     "execution_count": 14,
     "metadata": {},
     "output_type": "execute_result"
    }
   ],
   "source": [
    "feature_values=df.drop(['name','selling_price'],axis=1)\n",
    "feature_values.head()"
   ]
  },
  {
   "cell_type": "code",
   "execution_count": 15,
   "id": "cf10688c",
   "metadata": {},
   "outputs": [
    {
     "data": {
      "text/plain": [
       "0    430000\n",
       "1    325000\n",
       "2    250000\n",
       "3     80000\n",
       "4    525000\n",
       "Name: selling_price, dtype: int64"
      ]
     },
     "execution_count": 15,
     "metadata": {},
     "output_type": "execute_result"
    }
   ],
   "source": [
    "target_values=df['selling_price']\n",
    "target_values.head()"
   ]
  },
  {
   "cell_type": "markdown",
   "id": "22ffad51",
   "metadata": {},
   "source": [
    "## Standardaize the  Variables"
   ]
  },
  {
   "cell_type": "code",
   "execution_count": 16,
   "id": "508873ae",
   "metadata": {},
   "outputs": [],
   "source": [
    "from sklearn.preprocessing import StandardScaler\n",
    "scale=StandardScaler()\n",
    "feature_values_scaled=scale.fit_transform(feature_values)"
   ]
  },
  {
   "cell_type": "markdown",
   "id": "dc3de796",
   "metadata": {},
   "source": [
    "## Train/Test Split"
   ]
  },
  {
   "cell_type": "code",
   "execution_count": 17,
   "id": "dc04318b",
   "metadata": {},
   "outputs": [],
   "source": [
    "X_train,X_test,y_train,y_test=train_test_split(feature_values_scaled,target_values,test_size=0.1,random_state=2)"
   ]
  },
  {
   "cell_type": "code",
   "execution_count": 18,
   "id": "a5bb9ae7",
   "metadata": {},
   "outputs": [
    {
     "data": {
      "text/plain": [
       "(3906, 6)"
      ]
     },
     "execution_count": 18,
     "metadata": {},
     "output_type": "execute_result"
    }
   ],
   "source": [
    "X_train.shape"
   ]
  },
  {
   "cell_type": "code",
   "execution_count": 19,
   "id": "64e2b670",
   "metadata": {},
   "outputs": [
    {
     "data": {
      "text/plain": [
       "(434, 6)"
      ]
     },
     "execution_count": 19,
     "metadata": {},
     "output_type": "execute_result"
    }
   ],
   "source": [
    "X_test.shape"
   ]
  },
  {
   "cell_type": "markdown",
   "id": "b480881e",
   "metadata": {},
   "source": [
    "## 1) Multiple Regression"
   ]
  },
  {
   "cell_type": "markdown",
   "id": "23fb70d9",
   "metadata": {},
   "source": [
    "The variables in the multiple regession should have the constant \n",
    "intercept [1]"
   ]
  },
  {
   "cell_type": "code",
   "execution_count": 20,
   "id": "579d1c63",
   "metadata": {},
   "outputs": [
    {
     "name": "stdout",
     "output_type": "stream",
     "text": [
      "(3906, 7)\n",
      "(434, 7)\n"
     ]
    }
   ],
   "source": [
    "X_train=sm.add_constant(X_train)  \n",
    "X_test=sm.add_constant(X_test)\n",
    "print(X_train.shape)\n",
    "print(X_test.shape)"
   ]
  },
  {
   "cell_type": "code",
   "execution_count": 21,
   "id": "eea0e417",
   "metadata": {},
   "outputs": [
    {
     "name": "stdout",
     "output_type": "stream",
     "text": [
      "[ 1.          0.92748471 -0.8837243   0.85280178 -0.5555905  -0.33927557\n",
      " -0.59640154]\n",
      "\n",
      "[ 1.          0.69022881 -0.8909715  -0.9668441   1.45714971 -0.33927557\n",
      " -0.59640154]\n"
     ]
    }
   ],
   "source": [
    "print(X_train[0])  # with the intercept\n",
    "print()\n",
    "print(X_test[0])"
   ]
  },
  {
   "cell_type": "code",
   "execution_count": 22,
   "id": "58b54223",
   "metadata": {},
   "outputs": [
    {
     "name": "stdout",
     "output_type": "stream",
     "text": [
      "                            OLS Regression Results                            \n",
      "==============================================================================\n",
      "Dep. Variable:          selling_price   R-squared:                       0.434\n",
      "Model:                            OLS   Adj. R-squared:                  0.434\n",
      "Method:                 Least Squares   F-statistic:                     499.2\n",
      "Date:                Sun, 03 Oct 2021   Prob (F-statistic):               0.00\n",
      "Time:                        12:55:02   Log-Likelihood:                -56226.\n",
      "No. Observations:                3906   AIC:                         1.125e+05\n",
      "Df Residuals:                    3899   BIC:                         1.125e+05\n",
      "Df Model:                           6                                         \n",
      "Covariance Type:            nonrobust                                         \n",
      "==============================================================================\n",
      "                 coef    std err          t      P>|t|      [0.025      0.975]\n",
      "------------------------------------------------------------------------------\n",
      "const       5.018e+05   6916.715     72.552      0.000    4.88e+05    5.15e+05\n",
      "x1          1.632e+05   8438.568     19.343      0.000    1.47e+05     1.8e+05\n",
      "x2         -3.539e+04   8690.752     -4.073      0.000   -5.24e+04   -1.84e+04\n",
      "x3          1.162e+05   7512.971     15.470      0.000    1.01e+05    1.31e+05\n",
      "x4          4.594e+04   7302.461      6.291      0.000    3.16e+04    6.03e+04\n",
      "x5          2.622e+05   7143.353     36.703      0.000    2.48e+05    2.76e+05\n",
      "x6         -1.213e+04   7686.896     -1.578      0.115   -2.72e+04    2943.777\n",
      "==============================================================================\n",
      "Omnibus:                     3957.246   Durbin-Watson:                   1.962\n",
      "Prob(Omnibus):                  0.000   Jarque-Bera (JB):           467677.029\n",
      "Skew:                           4.692   Prob(JB):                         0.00\n",
      "Kurtosis:                      55.778   Cond. No.                         2.16\n",
      "==============================================================================\n",
      "\n",
      "Notes:\n",
      "[1] Standard Errors assume that the covariance matrix of the errors is correctly specified.\n"
     ]
    }
   ],
   "source": [
    "model_multiple=sm.OLS(y_train,X_train).fit()\n",
    "print(model_multiple.summary())"
   ]
  },
  {
   "cell_type": "code",
   "execution_count": null,
   "id": "03adcbc6",
   "metadata": {},
   "outputs": [],
   "source": []
  },
  {
   "cell_type": "markdown",
   "id": "5849d30f",
   "metadata": {},
   "source": [
    "__By this model summary we can analyze the lot of things of the model__\n",
    "\n",
    "\n",
    "-The variables that has the max cofficient will impact the model more \n",
    "\n",
    "\n",
    "-The vaiables x2,x6 will decrease as the target variable increases\n"
   ]
  },
  {
   "cell_type": "code",
   "execution_count": 23,
   "id": "48e7efcd",
   "metadata": {},
   "outputs": [],
   "source": [
    "# Now predicting the values \n",
    "predict=model_multiple.predict(X_test)"
   ]
  },
  {
   "cell_type": "markdown",
   "id": "dd6ff096",
   "metadata": {},
   "source": [
    "## Analyzing the model "
   ]
  },
  {
   "cell_type": "code",
   "execution_count": 27,
   "id": "ed76b8dd",
   "metadata": {},
   "outputs": [
    {
     "data": {
      "text/plain": [
       "0.4883880645922358"
      ]
     },
     "execution_count": 27,
     "metadata": {},
     "output_type": "execute_result"
    }
   ],
   "source": [
    "metrics.r2_score(y_test,predict)"
   ]
  },
  {
   "cell_type": "code",
   "execution_count": 28,
   "id": "10ddf889",
   "metadata": {},
   "outputs": [
    {
     "data": {
      "image/png": "[encoded data removed]",
      "text/plain": [
       "<Figure size 720x360 with 1 Axes>"
      ]
     },
     "metadata": {
      "needs_background": "light"
     },
     "output_type": "display_data"
    }
   ],
   "source": [
    "y_test=list(y_test)\n",
    "plt.figure(figsize=(10,5))\n",
    "plt.plot(y_test,color='red',label='Actual Price')\n",
    "plt.plot(predict,color='green',label='Predicted Price')\n",
    "plt.legend()\n",
    "plt.title('Actual Price vs Predicted Price')\n",
    "plt.show()"
   ]
  },
  {
   "cell_type": "markdown",
   "id": "1f41b446",
   "metadata": {},
   "source": [
    "__So the predicted values of the model is not so great__"
   ]
  },
  {
   "cell_type": "code",
   "execution_count": null,
   "id": "72ff5dc6",
   "metadata": {},
   "outputs": [],
   "source": []
  },
  {
   "cell_type": "markdown",
   "id": "654d28f8",
   "metadata": {},
   "source": [
    "## 2) Random Forest Regressor"
   ]
  },
  {
   "cell_type": "code",
   "execution_count": 31,
   "id": "d510a4e0",
   "metadata": {},
   "outputs": [],
   "source": [
    "model_random=RandomForestRegressor(n_estimators=100).fit(X_train,y_train)"
   ]
  },
  {
   "cell_type": "code",
   "execution_count": 32,
   "id": "2f182498",
   "metadata": {},
   "outputs": [],
   "source": [
    "predict_rand=model_random.predict(X_test)"
   ]
  },
  {
   "cell_type": "code",
   "execution_count": 33,
   "id": "36f494c3",
   "metadata": {},
   "outputs": [
    {
     "data": {
      "text/plain": [
       "0.6739683635675333"
      ]
     },
     "execution_count": 33,
     "metadata": {},
     "output_type": "execute_result"
    }
   ],
   "source": [
    "metrics.r2_score(y_test,predict_rand)"
   ]
  },
  {
   "cell_type": "code",
   "execution_count": 34,
   "id": "bc12de4f",
   "metadata": {},
   "outputs": [
    {
     "data": {
      "image/png": "[encoded data removed]",
      "text/plain": [
       "<Figure size 720x360 with 1 Axes>"
      ]
     },
     "metadata": {
      "needs_background": "light"
     },
     "output_type": "display_data"
    }
   ],
   "source": [
    "plt.figure(figsize=(10,5))\n",
    "plt.plot(y_test,color='red',label='Actual Price')\n",
    "plt.plot(predict_rand,color='green',label='Predicted Price')\n",
    "plt.legend()\n",
    "plt.title('Actual Price vs Predicted Price')\n",
    "plt.show()"
   ]
  },
  {
   "cell_type": "markdown",
   "id": "62bc9a68",
   "metadata": {},
   "source": [
    "__The 'Predicted Price' is close to 'Actual Price' of the car__"
   ]
  },
  {
   "cell_type": "code",
   "execution_count": null,
   "id": "1a2b0d87",
   "metadata": {},
   "outputs": [],
   "source": []
  },
  {
   "cell_type": "code",
   "execution_count": null,
   "id": "13d78f9e",
   "metadata": {},
   "outputs": [],
   "source": []
  },
  {
   "cell_type": "markdown",
   "id": "ef53d1e3",
   "metadata": {},
   "source": [
    "Conclusion : The __Random Forest Regressor__ is predicting the better score than the __Multiple Regression__"
   ]
  },
  {
   "cell_type": "code",
   "execution_count": null,
   "id": "aa1c7db2",
   "metadata": {},
   "outputs": [],
   "source": []
  }
 ],
 "metadata": {
  "kernelspec": {
   "display_name": "Python 3",
   "language": "python",
   "name": "python3"
  },
  "language_info": {
   "codemirror_mode": {
    "name": "ipython",
    "version": 3
   },
   "file_extension": ".py",
   "mimetype": "text/x-python",
   "name": "python",
   "nbconvert_exporter": "python",
   "pygments_lexer": "ipython3",
   "version": "3.7.10"
  }
 },
 "nbformat": 4,
 "nbformat_minor": 5
}
